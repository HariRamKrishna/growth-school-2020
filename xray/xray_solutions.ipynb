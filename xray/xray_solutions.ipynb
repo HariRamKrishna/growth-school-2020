{
 "cells": [
  {
   "cell_type": "markdown",
   "metadata": {},
   "source": [
    "# X-ray Module\n",
    "\n",
    "**Lecturer:** Brad Cenko<br>\n",
    "**Jupyter Notebook Author:** Brad Cenko, Dipankar Bhattacharya & Cameron Hummels\n",
    "\n",
    "This is a Jupyter notebook lesson taken from the GROWTH Summer School 2020.  For other lessons and their accompanying lectures, please see: http://growth.caltech.edu/growth-school-2020.html\n",
    "\n",
    "## Objective\n",
    "Learn how to analyze x-ray data\n",
    "\n",
    "## Key steps\n",
    "- Search for gamma-ray bursts in data from the AstroSat CZTI\n",
    "- Search for a periodic signal in data of the Crab Nebula from AstroSat LAXPC\n",
    "\n",
    "## Required dependencies\n",
    "\n",
    "See GROWTH school webpage for detailed instructions on how to install these modules and packages.  Nominally, you should be able to install the python modules with `pip install <module>`.  The external astromatic packages are easiest installed using package managers (e.g., `rpm`, `apt-get`).\n",
    "\n",
    "### Python modules\n",
    "* python 3\n",
    "* astropy\n",
    "* numpy\n",
    "* scipy\n",
    "* matplotlib\n",
    "\n",
    "### External packages\n",
    "None."
   ]
  },
  {
   "cell_type": "markdown",
   "metadata": {},
   "source": [
    "### Load modules"
   ]
  },
  {
   "cell_type": "code",
   "execution_count": 1,
   "metadata": {},
   "outputs": [],
   "source": [
    "from astropy.io import fits\n",
    "import numpy as np\n",
    "import matplotlib.pyplot as plt\n",
    "import math\n",
    "import scipy as sc\n",
    "import os"
   ]
  },
  {
   "cell_type": "markdown",
   "metadata": {},
   "source": [
    "# Load event file with astropy"
   ]
  },
  {
   "cell_type": "markdown",
   "metadata": {},
   "source": [
    "Data from X-ray instruments are typically stored as *event* files - binary FITS tables with a list of photons detected (including time, location on the detector, and photon energy).  Here we will start off by reading in one of these event files (in this case referred to as a \"Level 2\" event file because some cleaning has been done to filter for astrophysical photons) from the Cadmium Zinc Telluride Imager (CZTI) on the AstroSat satellite."
   ]
  },
  {
   "cell_type": "code",
   "execution_count": 2,
   "metadata": {},
   "outputs": [],
   "source": [
    "filename = os.path.join('data', 'AS1A02_005T01_9000000948_06884cztM0_level2_common_clean.evt')\n",
    "\n",
    "dataHDU = fits.open(filename)"
   ]
  },
  {
   "cell_type": "markdown",
   "metadata": {},
   "source": [
    "Here's what one of these event files looks like."
   ]
  },
  {
   "cell_type": "code",
   "execution_count": 3,
   "metadata": {},
   "outputs": [
    {
     "data": {
      "text/plain": [
       "XTENSION= 'BINTABLE'           / binary table extension                         \n",
       "BITPIX  =                    8 / 8-bit bytes                                    \n",
       "NAXIS   =                    2 / 2-dimensional binary table                     \n",
       "NAXIS1  =                   33 / width of table in bytes                        \n",
       "NAXIS2  =               477590 / number of rows in table                        \n",
       "PCOUNT  =                    0 / size of special data area                      \n",
       "GCOUNT  =                    1 / one data group (required keyword)              \n",
       "TFIELDS =                   12 / number of fields in each row                   \n",
       "TTYPE1  = 'Time    '           / label for field   1                            \n",
       "TFORM1  = 'D       '           / data format of field: 8-byte DOUBLE            \n",
       "TTYPE2  = 'CZTSECCNT'          / label for field   2                            \n",
       "TFORM2  = 'D       '           / data format of field: 8-byte DOUBLE            \n",
       "TTYPE3  = 'CZTNTICK'           / label for field  3                             \n",
       "TFORM3  = 'I       '           / data format of field: 2-byte INTEGER           \n",
       "TZERO3  =                32768 / offset for unsigned integers                   \n",
       "TSCAL3  =                    1 / data are not scaled                            \n",
       "TTYPE4  = 'PHA     '           / label for field   4                            \n",
       "TFORM4  = 'I       '           / data format of field: 2-byte INTEGER           \n",
       "TZERO4  =                32768 / offset for unsigned integers                   \n",
       "TSCAL4  =                    1 / data are not scaled                            \n",
       "TTYPE5  = 'DetID   '           / label for field   5                            \n",
       "TFORM5  = 'B       '           / data format of field: BYTE                     \n",
       "TTYPE6  = 'pixID   '           / label for field   6                            \n",
       "TFORM6  = 'B       '           / data format of field: BYTE                     \n",
       "TTYPE7  = 'DETX    '           / label for field   7                            \n",
       "TFORM7  = 'B       '           / data format of field: BYTE                     \n",
       "TTYPE8  = 'DETY    '           / label for field   8                            \n",
       "TFORM8  = 'B       '           / data format of field: BYTE                     \n",
       "TTYPE9  = 'veto    '           / label for field   9                            \n",
       "TFORM9  = 'I       '           / data format of field: SHORT INTEGER            \n",
       "TZERO9  =                32768 / offset for unsigned integers                   \n",
       "TSCAL9  =                    1 / data are not scaled                            \n",
       "TTYPE10 = 'alpha   '           / label for field   10                           \n",
       "TFORM10 = 'B       '           / data format of field: BYTE                     \n",
       "TUNIT1  = 's       '           / physical unit of field 1                       \n",
       "TUNIT2  = 's       '           / physical unit of field 2                       \n",
       "TUNIT3  = 'micro_sec'          / physical unit of field 3                       \n",
       "TUNIT4  = 'counts  '           / physical unit of field 4                       \n",
       "TUNIT9  = 'counts  '           / physical unit of field                         \n",
       "TUNIT10 = 'count   '           / physical unit of field                         \n",
       "EXTNAME = 'Q0      '           / name of this binary table extension            \n",
       "QUADID  =                    0 / Quadrant Number                                \n",
       "TSTARTI =            221288272 / Start time of observation Integer part         \n",
       "TSTARTF =                   0. / Start time of observation Fractional part      \n",
       "TSTOPI  =            221295247 / Stop time of observation Integer part          \n",
       "TSTOPF  =                   0. / Stop time of observation Fractional part       \n",
       "EXTVER  =                    1 / auto assigned by template parser               \n",
       "EXPOSURE=     3942.84576797485 / Exposure time                                  \n",
       "MISSION = 'ASTROSAT'           / Name of the mission/satellite                  \n",
       "TELESCOP= 'ASTROSAT'           / Name of the mission/satellite                  \n",
       "INSTRUME= 'CZTI    '           / Name of the instrument/detector                \n",
       "ORIGIN  = 'CZTI POC'           / Source of FITS FILE                            \n",
       "TIMESYS = 'UTC     '           / Time is UTC                                    \n",
       "TIMEUNIT= 's       '           / Time is in seconds                             \n",
       "MJDREFI =                55197 / MJDREF Integer part                            \n",
       "MJDREFF =                    0 / MJDREF Fractional part                         \n",
       "TSTART  =           221288272. / Start time of observation                      \n",
       "TSTOP   =           221295247. / Stop time of observation                       \n",
       "OBJECT  = 'Mrk421  '           / Target name                                    \n",
       "RADECSYS= 'ICRS    '           / Reference frame                                \n",
       "EQUINOX =                 2000 / J2000                                          \n",
       "RA_PNT  =             166.1138 / Nominal Pointing RA                            \n",
       "DEC_PNT =             38.20883 / Nominal Pointing DEC                           \n",
       "OBS_ID  = 'A02_005T01_9000000948' / Observation ID                              \n",
       "OBS_MODE= 'POINTING'                                                            \n",
       "DATE-OBS= '2017-01-05'         / Start date of observation                      \n",
       "TIME-OBS= '04:57:51.739900000' / Start time of observation                      \n",
       "DATE-END= '2017-01-05'         / End date of observation                        \n",
       "TIME-END= '06:54:09.740600000' / End time of observation                        \n",
       "TIMEDEL = 2.00000027772809E-05 / Time resolution                                \n",
       "TELAPSE =                6975. / Elapsed time                                   \n",
       "HISTORY Module run by czti                                                      \n",
       "HISTORY Parameter List START for cztscience2event_v1.0                          \n",
       "HISTORY P1 infile=/data2/czti/level1/20170103_A02_005T01_9000000948_level1/czti/\n",
       "HISTORY orbit/06884/modeM0/AS1A02_005T01_9000000948cztM0_level1.fits            \n",
       "HISTORY P2 TCTfile=/data2/czti/level1/20170103_A02_005T01_9000000948_level1/czti\n",
       "HISTORY /orbit/06884/aux/AS1A02_005T01_9000000948czt_level1.tct                 \n",
       "HISTORY P3 outfile=/data2/czti/level2/20170103_A02_005T01_9000000948_level2/czti\n",
       "HISTORY /orbit/06884/modeM0/AS1A02_005T01_9000000948_06884cztM0_level2.fits     \n",
       "HISTORY P4 hdrInfoFile=/data2/czti/level2/20170103_A02_005T01_9000000948_level2/\n",
       "HISTORY czti/orbit/06884/modeM0/AS1A02_005T01_9000000948_06884cztM0_level2.hdr  \n",
       "HISTORY P7 BigEndian=yes                                                        \n",
       "HISTORY P8 clobber=yes                                                          \n",
       "HISTORY P9 history=yes                                                          \n",
       "HISTORY P10 debug=yes                                                           \n",
       "HISTORY Parameter List END                                                      \n",
       "DATE    = '2017-01-05T08:08:21' / file creation date (YYYY-MM-DDThh:mm:ss UT)   \n",
       "CREATOR = 'cztevtclean_v1.0'   / Module that created this file                  \n",
       "FILENAME= '/data2/czti/level2/20170103_A02_005T01_9000000948_level2/czti/orbit/'\n",
       "CHECKSUM= '6AKA63K369K969K9'   / HDU checksum updated 2017-01-05T08:08:21       \n",
       "DATASUM = '2829133320'         / data unit checksum updated 2017-01-05T08:08:21 \n",
       "TTYPE11 = 'PI      '           / label for field                                \n",
       "TFORM11 = 'I       '           / format of field                                \n",
       "TTYPE12 = 'ENERGY  '           / label for field                                \n",
       "TFORM12 = 'E       '           / format of field                                \n",
       "HISTORY Module run by czti                                                      \n",
       "HISTORY Parameter List START for cztpha2energy_v1.0                             \n",
       "HISTORY P1 infile=/data2/czti/level2/20170103_A02_005T01_9000000948_level2/czti/\n",
       "HISTORY orbit/06884/modeM0/AS1A02_005T01_9000000948_06884cztM0_level2.fits      \n",
       "HISTORY P2 Ebounds file=/home/czti/new_CALDB/data/as1/czti/bcf/AS1cztebounds2015\n",
       "HISTORY 0707v01.fits                                                            \n",
       "HISTORY P3 Gain file=/home/czti/new_CALDB/data/as1/czti/bcf/AS1cztgain20150707v0\n",
       "HISTORY 1.fits                                                                  \n",
       "HISTORY P5 outfile file=/data2/czti/level2/20170103_A02_005T01_9000000948_level2\n",
       "HISTORY /czti/orbit/06884/modeM0/AS1A02_005T01_9000000948_06884cztM0_level2.evt \n",
       "HISTORY P5 clobber=yes                                                          \n",
       "HISTORY P6 history=yes                                                          \n",
       "HISTORY Parameter List END                                                      \n",
       "HISTORY Module run by czti                                                      \n",
       "HISTORY Parameter List START for cztbunchclean                                  \n",
       "HISTORY P1 infile=/data2/czti/level2/20170103_A02_005T01_9000000948_level2/czti/\n",
       "HISTORY orbit/06884/modeM0/AS1A02_005T01_9000000948_06884cztM0_level2.evt       \n",
       "HISTORY P2 outfile=/data2/czti/level2/20170103_A02_005T01_9000000948_level2/czti\n",
       "HISTORY /orbit/06884/modeM0/AS1A02_005T01_9000000948_06884cztM0_level2_bc.evt   \n",
       "HISTORY P3 bunchdeftime=30                                                      \n",
       "HISTORY P4 bunch_length_thresh=20                                               \n",
       "HISTORY P5 skipT1=0.000000                                                      \n",
       "HISTORY P6 skipT2=0.001000                                                      \n",
       "HISTORY P7 skipT3=0.001000                                                      \n",
       "HISTORY P8 clobber=yes                                                          \n",
       "HISTORY P9 history=yes                                                          \n",
       "HISTORY Parameter List END                                                      \n",
       "GTITYPE = 'COMMON  '                                                            \n",
       "HISTORY Module run by czti                                                      \n",
       "HISTORY Parameter List START for cztdatasel_v1.0                                \n",
       "HISTORY P1 infile=/data2/czti/level2/20170103_A02_005T01_9000000948_level2/czti/\n",
       "HISTORY orbit/06884/modeM0/AS1A02_005T01_9000000948_06884cztM0_level2_bc.evt    \n",
       "HISTORY P2 gtifile=/data2/czti/level2/20170103_A02_005T01_9000000948_level2/czti\n",
       "HISTORY /orbit/06884/modeM0/AS1A02_005T01_9000000948_06884cztM0_level2.gti      \n",
       "HISTORY P3 outfile=/data2/czti/level2/20170103_A02_005T01_9000000948_level2/czti\n",
       "HISTORY /orbit/06884/modeM0/AS1A02_005T01_9000000948_06884cztM0_level2_common_bc\n",
       "HISTORY _ds.evt                                                                 \n",
       "HISTORY P4 gtitype=COMMON                                                       \n",
       "HISTORY P5 clobber=yes                                                          \n",
       "HISTORY P6 history=yes                                                          \n",
       "HISTORY Parameter List END                                                      \n",
       "HISTORY Module run by czti                                                      \n",
       "HISTORY Parameter List START for cztevtclean_v1.0                               \n",
       "HISTORY P1 infile=/data2/czti/level2/20170103_A02_005T01_9000000948_level2/czti/\n",
       "HISTORY orbit/06884/modeM0/AS1A02_005T01_9000000948_06884cztM0_level2_common_bc_\n",
       "HISTORY ds_pc.evt                                                               \n",
       "HISTORY P2 outfile=/data2/czti/level2/20170103_A02_005T01_9000000948_level2/czti\n",
       "HISTORY /orbit/06884/modeM0/AS1A02_005T01_9000000948_06884cztM0_level2_common_cl\n",
       "HISTORY ean.evt                                                                 \n",
       "HISTORY P3 alphaval=0                                                           \n",
       "HISTORY P4 vetorange=0                                                          \n",
       "HISTORY P5 clobber=yes                                                          \n",
       "HISTORY P6 history=yes                                                          \n",
       "HISTORY Parameter List END                                                      "
      ]
     },
     "execution_count": 3,
     "metadata": {},
     "output_type": "execute_result"
    }
   ],
   "source": [
    "dataHDU[1].header"
   ]
  },
  {
   "cell_type": "markdown",
   "metadata": {},
   "source": [
    "You can see that this was an observation of the bright AGN Mrk421 (\"OBJECT\" keyword) obtained on January 5 2017 (\"DATE-OBS\" keyword), with a total elapsed time of 6975 s (\"TELAPSE\" keyword) and an exposure time of 3943 s (\"EXPOSURE\" keyword).  Now let's look at the actual data in the binary table.  The attribute \"dtype\" describes the columns in a FITS record array."
   ]
  },
  {
   "cell_type": "code",
   "execution_count": 4,
   "metadata": {},
   "outputs": [
    {
     "data": {
      "text/plain": [
       "dtype((numpy.record, [('Time', '>f8'), ('CZTSECCNT', '>f8'), ('CZTNTICK', '>i2'), ('PHA', '>i2'), ('DetID', 'u1'), ('pixID', 'u1'), ('DETX', 'u1'), ('DETY', 'u1'), ('veto', '>i2'), ('alpha', 'u1'), ('PI', '>i2'), ('ENERGY', '>f4')]))"
      ]
     },
     "execution_count": 4,
     "metadata": {},
     "output_type": "execute_result"
    }
   ],
   "source": [
    "dataHDU[1].data.dtype"
   ]
  },
  {
   "cell_type": "markdown",
   "metadata": {},
   "source": [
    "### Combine data from all quadrants"
   ]
  },
  {
   "cell_type": "markdown",
   "metadata": {},
   "source": [
    "CZTI contains four quadrants, here we obtain the time value for each quadrant and combine the data for them.  Since the FITS tables are a list of detected photons, combining the list of times effectively produces a list of the times of all photons observed by the detector."
   ]
  },
  {
   "cell_type": "code",
   "execution_count": 5,
   "metadata": {},
   "outputs": [],
   "source": [
    "times = np.concatenate((dataHDU[1].data['Time'], dataHDU[2].data['Time'],\n",
    "                        dataHDU[3].data['Time'], dataHDU[4].data['Time']))"
   ]
  },
  {
   "cell_type": "markdown",
   "metadata": {},
   "source": [
    "### Make histogram and plot light curve"
   ]
  },
  {
   "cell_type": "markdown",
   "metadata": {},
   "source": [
    "To generate a light curve, we can just create a histogram of the times of photon arrival from the four quadrants.  Defining the bin size (in this case 5 s) will significantly impact the appearance of the light curve.   "
   ]
  },
  {
   "cell_type": "code",
   "execution_count": 6,
   "metadata": {
    "scrolled": true
   },
   "outputs": [
    {
     "name": "stderr",
     "output_type": "stream",
     "text": [
      "/home/growth/miniconda3/lib/python3.7/site-packages/ipykernel_launcher.py:10: MatplotlibDeprecationWarning: Passing the drawstyle with the linestyle as a single string is deprecated since Matplotlib 3.1 and support will be removed in 3.3; please pass the drawstyle separately using the drawstyle keyword argument to Line2D or set_drawstyle() method (or ds/set_ds()).\n",
      "  # Remove the CWD from sys.path while we load stuff.\n"
     ]
    },
    {
     "data": {
      "image/png": "[encoded data removed]",
      "text/plain": [
       "<Figure size 432x288 with 1 Axes>"
      ]
     },
     "metadata": {
      "needs_background": "light"
     },
     "output_type": "display_data"
    }
   ],
   "source": [
    "# Define timebins\n",
    "binsize = 5  \n",
    "tbins = np.arange(times.min(), times.max(), binsize)\n",
    "\n",
    "# Make histogoram\n",
    "counts, bins = np.histogram(times, bins=tbins)\n",
    "bins = (bins[1:] + bins[:-1])/2\n",
    "\n",
    "# Plot\n",
    "plt.plot(bins, counts/binsize, drawstyle='steps-mid')\n",
    "plt.xlabel('Time (s)')\n",
    "plt.ylabel('$counts\\ s^{-1}$')\n",
    "plt.show()"
   ]
  },
  {
   "cell_type": "markdown",
   "metadata": {},
   "source": [
    "# Searching for GRB170105A in Data"
   ]
  },
  {
   "cell_type": "markdown",
   "metadata": {},
   "source": [
    "*Student Exercises*: From other high-energy detectors, we know that a GRB occured at UTC 2017 Jan 5 06:14:06 (GRB170105A), corresponding to a mission time of ~ 221292850.  \n",
    "\n",
    "Part 1: Did the CZTI see a GRB at this time?  Plot the four-quadrant light curve around this time window with a variety of different bin sizes to see if there is any evidence for a GRB at this time."
   ]
  },
  {
   "cell_type": "code",
   "execution_count": 7,
   "metadata": {},
   "outputs": [
    {
     "name": "stderr",
     "output_type": "stream",
     "text": [
      "/home/growth/miniconda3/lib/python3.7/site-packages/ipykernel_launcher.py:8: MatplotlibDeprecationWarning: Passing the drawstyle with the linestyle as a single string is deprecated since Matplotlib 3.1 and support will be removed in 3.3; please pass the drawstyle separately using the drawstyle keyword argument to Line2D or set_drawstyle() method (or ds/set_ds()).\n",
      "  \n"
     ]
    },
    {
     "data": {
      "image/png": "[encoded data removed]",
      "text/plain": [
       "<Figure size 432x288 with 1 Axes>"
      ]
     },
     "metadata": {
      "needs_background": "light"
     },
     "output_type": "display_data"
    }
   ],
   "source": [
    "binsize =0.5\n",
    "tbins = np.arange(221292820.0, 221292880.0, binsize)\n",
    "\n",
    "counts, bins = np.histogram(times, bins=tbins)\n",
    "bins = (bins[1:] + bins[:-1])/2\n",
    "\n",
    "\n",
    "plt.plot(bins, counts/binsize, drawstyle='steps-mid')\n",
    "plt.xlabel('Time (s)')\n",
    "plt.ylabel('$counts\\ s^{-1}$')\n",
    "plt.show()"
   ]
  },
  {
   "cell_type": "markdown",
   "metadata": {},
   "source": [
    "Part 2: Estimate the duration of GRB170105A in the CZTI bandpass (i.e., how long was there signal above the background level)?"
   ]
  },
  {
   "cell_type": "code",
   "execution_count": 8,
   "metadata": {},
   "outputs": [
    {
     "name": "stderr",
     "output_type": "stream",
     "text": [
      "/home/growth/miniconda3/lib/python3.7/site-packages/ipykernel_launcher.py:8: MatplotlibDeprecationWarning: Passing the drawstyle with the linestyle as a single string is deprecated since Matplotlib 3.1 and support will be removed in 3.3; please pass the drawstyle separately using the drawstyle keyword argument to Line2D or set_drawstyle() method (or ds/set_ds()).\n",
      "  \n"
     ]
    },
    {
     "data": {
      "image/png": "[encoded data removed]",
      "text/plain": [
       "<Figure size 432x288 with 1 Axes>"
      ]
     },
     "metadata": {
      "needs_background": "light"
     },
     "output_type": "display_data"
    }
   ],
   "source": [
    "binsize =1.0\n",
    "tbins = np.arange(221292840.0, 221292860.0, binsize)\n",
    "\n",
    "counts, bins = np.histogram(times, bins=tbins)\n",
    "bins = (bins[1:] + bins[:-1])/2\n",
    "\n",
    "\n",
    "plt.plot(bins, counts/binsize, drawstyle='steps-mid')\n",
    "plt.plot([221292840.0, 221292860.0], [550.0, 550.0], \"k\")\n",
    "plt.xlabel('Time (s)')\n",
    "plt.ylabel('$counts\\ s^{-1}$')\n",
    "plt.show()\n",
    "# Approximately 4 bins above background, so ~ 4 s."
   ]
  },
  {
   "cell_type": "markdown",
   "metadata": {},
   "source": [
    "# Searching for the Crab Pulsar"
   ]
  },
  {
   "cell_type": "markdown",
   "metadata": {},
   "source": [
    "We will look at observations obtained by the Large Area X-ray Proportional Counter (LAXPC) instrument on AstroSat to see if we can measure pulsations from the Crab pulsar.  We need following files for this tutorial:<br> \n",
    "1) A LAXPC events file without barycenter correction.<br>\n",
    "2) An event file with barycenter correction.<br>\n",
    "3) A GTI file (which contains the good time start and stop time values).<br>\n",
    "The files can be open in the same format as described in the example below.<br>\n",
    "GTI = Good Time Interval"
   ]
  },
  {
   "cell_type": "code",
   "execution_count": 9,
   "metadata": {},
   "outputs": [],
   "source": [
    "fevents=fits.open(\"data/ObsID406_02741_event.fits\")\n",
    "fevents_bary=fits.open(\"data/ObsID406_02741_laxpc_bary.fits\")\n",
    "fgti=fits.open('data/ObsID406_02741_laxpc1_bary.gti')"
   ]
  },
  {
   "cell_type": "markdown",
   "metadata": {},
   "source": [
    "# Some information about fits file"
   ]
  },
  {
   "cell_type": "markdown",
   "metadata": {},
   "source": [
    "From the files we can obtain informations like the length, header etc."
   ]
  },
  {
   "cell_type": "code",
   "execution_count": 10,
   "metadata": {},
   "outputs": [
    {
     "data": {
      "text/plain": [
       "XTENSION= 'BINTABLE'           / binary table extension                         \n",
       "BITPIX  =                    8 / 8-bit bytes                                    \n",
       "NAXIS   =                    2 / 2-dimensional binary table                     \n",
       "NAXIS1  =                   18 / width of table in bytes                        \n",
       "NAXIS2  =             13614384 / number of rows in table                        \n",
       "PCOUNT  =                    0 / size of special data area                      \n",
       "GCOUNT  =                    1 / one data group (required keyword)              \n",
       "TFIELDS =                    5 / number of fields in each row                   \n",
       "TTYPE1  = 'TIME    '           / Time elapsed since MJDREF                      \n",
       "TFORM1  = '1D      '           / data format of field: 8-byte DOUBLE            \n",
       "TUNIT1  = 's       '           / physical unit of field                         \n",
       "TTYPE2  = 'Channel '           / label for field   2                            \n",
       "TFORM2  = 'I2      '           / data format of field: 2-byte INTEGER           \n",
       "TTYPE3  = 'Layer   '           / label for field   3                            \n",
       "TFORM3  = 'I2      '           / data format of field: 2-byte INTEGER           \n",
       "TTYPE4  = 'LAXPC_No.'          / label for field   4                            \n",
       "TFORM4  = 'I2      '           / data format of field: 2-byte INTEGER           \n",
       "TTYPE5  = 'Energy  '           / label for field   5                            \n",
       "TFORM5  = '1E3.2   '           / data format of field: 4-byte REAL              \n",
       "TUNIT5  = 'keV     '           / physical unit of field                         \n",
       "EXTNAME = 'event file'         / name of this binary table extension            \n",
       "RESPFIL1= 'lx10_17aug16.rmf'   / Response file for LAXPC  10                    \n",
       "RESPFIL2= 'lx20_17aug16.rmf'   / Response file for LAXPC  20                    \n",
       "MJDREFI =                55197 / TDB time reference; Modified Julian Day (int)  \n",
       "MJDREFF =                    0 / TDB time reference; Modified Julian Day (frac) \n",
       "TSTOP   = 1.971066916643481E+08 / Elapsed seconds since MJDREF at end of file   \n",
       "TSTART  = 1.970990932256668E+08 / Elapsed seconds since MJDREF at start of file \n",
       "RESPFIL3= 'lx30_17aug16.rmf'   / Response file for LAXPC  30                    \n",
       "TIMEDEL =             1.00E-05                                                  \n",
       "MISSION = 'ASTROSAT'                                                            \n",
       "TELESCOP= 'ASTROSAT'                                                            \n",
       "INSTRUME= 'LAXPC1  '                                                            \n",
       "RADECSYS= 'FK5     '           / Coordinate Reference System                    \n",
       "TIMESYS = 'TDB     '           / All times in this file are TDB                 \n",
       "HISTORY File modified by user 'dipankar' with fv  on 2017-01-17T13:30:48        \n",
       "HISTORY File modified by user 'dipankar' with fv  on 2017-01-17T13:44:59        \n",
       "DATE-OBS= '2016-03-31T05:45:59' / Date and time (TIMESYS) at start of file      \n",
       "DATE-END= '2016-03-31T07:52:37' / Date and time (TIMESYS) at end of file        \n",
       "TIMEZERO=         0.000000E+00 / &                                              \n",
       "RA_OBJ  =       8.36330800E+01 / Right Ascension used for barycenter corrections\n",
       "DEC_OBJ =       2.20144600E+01 / Declination used for barycenter corrections    \n",
       "TIMEREF = 'SOLARSYSTEM'        / Times are pathlength-corrected to barycenter   \n",
       "TREFPOS = 'BARYCENTER'         / Time reference position                        \n",
       "TREFDIR = 'RA_OBJ,DEC_OBJ'     / Keywords of reference direction                \n",
       "PLEPHEM = 'JPL-DE200'          / Solar system ephemeris used for baryctr corr.  \n",
       "TIERRELA=         1.000000E-09 / Short-term clock stability                     \n",
       "TIERABSO=         4.000000E+00 / Absolute precision of clock correction         \n",
       "CREATOR = 'axBary - $Revision: 1.10 $ $Date: 2013/12/02 20:28:26 $' / &         \n",
       "DATE    = '2017-01-28T13:41:47' / Date and time (UTC) of file creation          \n",
       "CHECKSUM= '31Ge509e30Ee309e'   / HDU checksum updated 2017-01-28T13:41:47       \n",
       "DATASUM = '965414762'          / data unit checksum updated 2017-01-28T13:41:47 "
      ]
     },
     "execution_count": 10,
     "metadata": {},
     "output_type": "execute_result"
    }
   ],
   "source": [
    "fevents_bary[1].header"
   ]
  },
  {
   "cell_type": "markdown",
   "metadata": {},
   "source": [
    "# Change in time after barycenter correction"
   ]
  },
  {
   "cell_type": "markdown",
   "metadata": {},
   "source": [
    "For accurate timing analysis, we need to put all the observations times onto a common reference system.  This is typically referenced to the frame of the Sun / Solar System, and is called a barycenter correction.  Here the correction has been applied for us by the AstroSat pipeline.  Observe the time difference between the data from the event file and barycenter correction file."
   ]
  },
  {
   "cell_type": "code",
   "execution_count": 11,
   "metadata": {},
   "outputs": [
    {
     "data": {
      "text/plain": [
       "73.24125623703003"
      ]
     },
     "execution_count": 11,
     "metadata": {},
     "output_type": "execute_result"
    }
   ],
   "source": [
    "time=fevents[1].data['TIME']\n",
    "time_bary=fevents_bary[1].data['TIME']\n",
    "time_diff=time[0]- time_bary[0]\n",
    "time_diff"
   ]
  },
  {
   "cell_type": "markdown",
   "metadata": {},
   "source": [
    "# Lightcurve without GTI"
   ]
  },
  {
   "cell_type": "markdown",
   "metadata": {},
   "source": [
    "In addition to the barycenter correction, we need to account for the fact that only a fraction of the data is obtained during so-called \"Good Time Intervals (GTIs)\".  This could be due to time periods of elevated background (e.g., passage through the South Atlantic Anomaly), or simply because the target location is occulted by Earth.\n",
    "\n",
    "First lets plot the light curve without applying gti cuts. This plot will consist of both gti(good time interval) data as well as bti (bad time interval) data. We can compare the two light curves obtained before and after applying gti cuts."
   ]
  },
  {
   "cell_type": "code",
   "execution_count": 12,
   "metadata": {},
   "outputs": [
    {
     "name": "stderr",
     "output_type": "stream",
     "text": [
      "/home/growth/miniconda3/lib/python3.7/site-packages/ipykernel_launcher.py:10: MatplotlibDeprecationWarning: Passing the drawstyle with the linestyle as a single string is deprecated since Matplotlib 3.1 and support will be removed in 3.3; please pass the drawstyle separately using the drawstyle keyword argument to Line2D or set_drawstyle() method (or ds/set_ds()).\n",
      "  # Remove the CWD from sys.path while we load stuff.\n"
     ]
    },
    {
     "data": {
      "image/png": "[encoded data removed]",
      "text/plain": [
       "<Figure size 432x288 with 1 Axes>"
      ]
     },
     "metadata": {
      "needs_background": "light"
     },
     "output_type": "display_data"
    }
   ],
   "source": [
    "# Define timebins\n",
    "binsize = 1\n",
    "tbins = np.arange(time_bary.min(), time_bary.max(), binsize)\n",
    "\n",
    "# Make histogoram\n",
    "counts_time, t_bins = np.histogram(time_bary, bins=tbins)\n",
    "t_bins = (t_bins[1:] + t_bins[:-1])/2\n",
    "\n",
    "# Plot\n",
    "plt.plot(t_bins, counts_time/binsize, drawstyle='steps-mid')\n",
    "plt.xlabel('Time (s)')\n",
    "plt.ylabel('$counts\\ s^{-1}$')\n",
    "plt.show()"
   ]
  },
  {
   "cell_type": "markdown",
   "metadata": {},
   "source": [
    "# applying GTI"
   ]
  },
  {
   "cell_type": "markdown",
   "metadata": {},
   "source": [
    "Read and filter event file to keep in array only events within the good time interval.  You can see from the plot above that there are two good time intervals in the above data set."
   ]
  },
  {
   "cell_type": "code",
   "execution_count": 13,
   "metadata": {},
   "outputs": [
    {
     "data": {
      "text/plain": [
       "FITS_rec([(1.97099975e+08, 1.97103300e+08),\n",
       "          (1.97105810e+08, 1.97106645e+08)],\n",
       "         dtype=(numpy.record, [('START', '>f8'), ('STOP', '>f8')]))"
      ]
     },
     "execution_count": 13,
     "metadata": {},
     "output_type": "execute_result"
    }
   ],
   "source": [
    "gtidata=fgti[1].data\n",
    "gtidata"
   ]
  },
  {
   "cell_type": "code",
   "execution_count": 14,
   "metadata": {},
   "outputs": [],
   "source": [
    "t_start=gtidata[0][0],gtidata[1][0]\n",
    "t_stop=gtidata[0][1],gtidata[1][1]"
   ]
  },
  {
   "cell_type": "markdown",
   "metadata": {},
   "source": [
    "#  lightcurve after applying GTI"
   ]
  },
  {
   "cell_type": "markdown",
   "metadata": {},
   "source": [
    "*Student Exercise*: Using the GTIs defined above, plot the light curve in the second good time interval."
   ]
  },
  {
   "cell_type": "code",
   "execution_count": 15,
   "metadata": {},
   "outputs": [
    {
     "name": "stderr",
     "output_type": "stream",
     "text": [
      "/home/growth/miniconda3/lib/python3.7/site-packages/ipykernel_launcher.py:13: MatplotlibDeprecationWarning: Passing the drawstyle with the linestyle as a single string is deprecated since Matplotlib 3.1 and support will be removed in 3.3; please pass the drawstyle separately using the drawstyle keyword argument to Line2D or set_drawstyle() method (or ds/set_ds()).\n",
      "  del sys.path[0]\n"
     ]
    },
    {
     "data": {
      "image/png": "[encoded data removed]",
      "text/plain": [
       "<Figure size 432x288 with 1 Axes>"
      ]
     },
     "metadata": {
      "needs_background": "light"
     },
     "output_type": "display_data"
    }
   ],
   "source": [
    "eventsdata=fevents_bary[1].data\n",
    "time_gti = time_bary[np.where((time_bary>=t_start[1]) & (time_bary<=t_stop[1]))]\n",
    "    \n",
    "# Define timebins\n",
    "binsize = 1\n",
    "tbins = np.arange(time_gti.min(), time_gti.max(), binsize)\n",
    "\n",
    "# Make histogoram\n",
    "counts_time, t_bins = np.histogram(time_gti, bins=tbins)\n",
    "t_bins = (t_bins[1:] + t_bins[:-1])/2\n",
    "\n",
    "# Plot\n",
    "plt.plot(t_bins, counts_time/binsize, drawstyle='steps-mid')\n",
    "plt.xlabel('Time (s)')\n",
    "plt.ylabel('$counts\\ s^{-1}$')\n",
    "plt.show()"
   ]
  },
  {
   "cell_type": "markdown",
   "metadata": {},
   "source": [
    "# Calculating Phase and folding"
   ]
  },
  {
   "cell_type": "markdown",
   "metadata": {},
   "source": [
    "While it is not apparent in the plot above, the X-ray light curves includes a periodic modulation due to the Crab pulsar.\n",
    "\n",
    "*Student Exercise*: Calculate the power spectrum of the light curve in the second good time interval, and search for periodicity due to the Crab pulsar (hint: the period is ~ 30 Hz)"
   ]
  },
  {
   "cell_type": "code",
   "execution_count": 16,
   "metadata": {},
   "outputs": [
    {
     "data": {
      "image/png": "[encoded data removed]",
      "text/plain": [
       "<Figure size 432x288 with 1 Axes>"
      ]
     },
     "metadata": {
      "needs_background": "light"
     },
     "output_type": "display_data"
    }
   ],
   "source": [
    "binsize = 0.001\n",
    "tbins = np.arange(time_gti.min(), time_gti.max(), binsize)\n",
    "counts_time, t_bins = np.histogram(time_gti, bins=tbins)\n",
    "t_bins = (t_bins[1:] + t_bins[:-1])/2\n",
    "\n",
    "import numpy.fft as fft\n",
    "n = len(counts_time)\n",
    "T=time_gti.max()-time_gti.min()\n",
    "frq = np.arange(n)/T\n",
    "\n",
    "power = fft.fft(counts_time/binsize)\n",
    "plt.plot(frq, abs(power))\n",
    "plt.xlim(29.0, 31.0)\n",
    "plt.ylim(0.0, 0.1e9)\n",
    "plt.show()"
   ]
  },
  {
   "cell_type": "markdown",
   "metadata": {},
   "source": [
    "With the period in hand, we can calculate a phase folded light curve to measure the pulse profile.  We can use the period measured above (P = 29.655 Hz) to perform the phase folding.\n",
    "\n",
    "*Student exercise*: Fold the light curve above at the period of the Crab pulsar to determine the pulse profile.  Hint: use the following period: 29.6553306828504"
   ]
  },
  {
   "cell_type": "code",
   "execution_count": 17,
   "metadata": {},
   "outputs": [
    {
     "data": {
      "image/png": "[encoded data removed]",
      "text/plain": [
       "<Figure size 432x288 with 1 Axes>"
      ]
     },
     "metadata": {
      "needs_background": "light"
     },
     "output_type": "display_data"
    }
   ],
   "source": [
    "tref=fevents_bary[1].header['MJDREFI']\n",
    "tref=tref*86400\n",
    "time_current =time_gti + tref\n",
    "T0=57480.5635028439*86400 # Reference Epoch for which nu is known\n",
    "t_phase=time_current-T0\n",
    "\n",
    "# freq\n",
    "nu = 29.6553306828504\n",
    "\n",
    "#calculating phase\n",
    "phi=t_phase*nu\n",
    "phi_int=np.zeros(len(phi))\n",
    "for i in range(len(phi)):\n",
    "    phi_int[i]= int(phi[i])\n",
    "phase=phi - phi_int\n",
    "phase=phase+1\n",
    "min(phase),max(phase)\n",
    "\n",
    "#folding phase\n",
    "no_bins=250\n",
    "pbins=np.linspace(0.,1.,no_bins+1)\n",
    "phase_counts, pbin_edges = np.histogram(phase,bins=pbins)\n",
    "pbin_edges = (pbin_edges[1:] + pbin_edges[:-1])/2\n",
    "phase_counts=[float(i) for i in phase_counts]\n",
    "phase_counts=np.array(phase_counts)\n",
    "pcounts=phase_counts/max(phase_counts) # normalising \n",
    "plt.plot(pbin_edges, pcounts) # plotting pulse profile\n",
    "plt.xlabel('Phase')\n",
    "plt.ylabel('norm ')\n",
    "plt.show()\n"
   ]
  },
  {
   "cell_type": "code",
   "execution_count": null,
   "metadata": {},
   "outputs": [],
   "source": []
  }
 ],
 "metadata": {
  "kernelspec": {
   "display_name": "Python 3",
   "language": "python",
   "name": "python3"
  },
  "language_info": {
   "codemirror_mode": {
    "name": "ipython",
    "version": 3
   },
   "file_extension": ".py",
   "mimetype": "text/x-python",
   "name": "python",
   "nbconvert_exporter": "python",
   "pygments_lexer": "ipython3",
   "version": "3.7.4"
  }
 },
 "nbformat": 4,
 "nbformat_minor": 2
}
