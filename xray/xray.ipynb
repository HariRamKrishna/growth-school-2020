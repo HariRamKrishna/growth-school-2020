{
 "cells": [
  {
   "cell_type": "markdown",
   "metadata": {},
   "source": [
    "# X-ray Module\n",
    "\n",
    "**Lecturer:** Brad Cenko<br>\n",
    "**Jupyter Notebook Author:** Brad Cenko, Dipankar Bhattacharya & Cameron Hummels\n",
    "\n",
    "This is a Jupyter notebook lesson taken from the GROWTH Summer School 2020.  For other lessons and their accompanying lectures, please see: http://growth.caltech.edu/growth-school-2020.html\n",
    "\n",
    "## Objective\n",
    "Learn how to analyze x-ray data\n",
    "\n",
    "## Key steps\n",
    "- Search for gamma-ray bursts in data from the AstroSat CZTI\n",
    "- Search for a periodic signal in data of the Crab Nebula from AstroSat LAXPC\n",
    "\n",
    "## Required dependencies\n",
    "\n",
    "See GROWTH school webpage for detailed instructions on how to install these modules and packages.  Nominally, you should be able to install the python modules with `pip install <module>`.  The external astromatic packages are easiest installed using package managers (e.g., `rpm`, `apt-get`).\n",
    "\n",
    "### Python modules\n",
    "* python 3\n",
    "* astropy\n",
    "* numpy\n",
    "* scipy\n",
    "* matplotlib\n",
    "\n",
    "### External packages\n",
    "None."
   ]
  },
  {
   "cell_type": "markdown",
   "metadata": {},
   "source": [
    "### Load modules"
   ]
  },
  {
   "cell_type": "code",
   "execution_count": null,
   "metadata": {},
   "outputs": [],
   "source": [
    "from astropy.io import fits\n",
    "import numpy as np\n",
    "import matplotlib.pyplot as plt\n",
    "import math\n",
    "import scipy as sc\n",
    "import os"
   ]
  },
  {
   "cell_type": "markdown",
   "metadata": {},
   "source": [
    "# Load event file with astropy"
   ]
  },
  {
   "cell_type": "markdown",
   "metadata": {},
   "source": [
    "Data from X-ray instruments are typically stored as *event* files - binary FITS tables with a list of photons detected (including time, location on the detector, and photon energy).  Here we will start off by reading in one of these event files (in this case referred to as a \"Level 2\" event file because some cleaning has been done to filter for astrophysical photons) from the Cadmium Zinc Telluride Imager (CZTI) on the AstroSat satellite."
   ]
  },
  {
   "cell_type": "code",
   "execution_count": null,
   "metadata": {},
   "outputs": [],
   "source": [
    "filename = os.path.join('data', 'AS1A02_005T01_9000000948_06884cztM0_level2_common_clean.evt')\n",
    "\n",
    "dataHDU = fits.open(filename)"
   ]
  },
  {
   "cell_type": "markdown",
   "metadata": {},
   "source": [
    "Here's what one of these event files looks like."
   ]
  },
  {
   "cell_type": "code",
   "execution_count": null,
   "metadata": {},
   "outputs": [],
   "source": [
    "dataHDU[1].header"
   ]
  },
  {
   "cell_type": "markdown",
   "metadata": {},
   "source": [
    "You can see that this was an observation of the bright AGN Mrk421 (\"OBJECT\" keyword) obtained on January 5 2017 (\"DATE-OBS\" keyword), with a total elapsed time of 6975 s (\"TELAPSE\" keyword) and an exposure time of 3943 s (\"EXPOSURE\" keyword).  Now let's look at the actual data in the binary table.  The attribute \"dtype\" describes the columns in a FITS record array."
   ]
  },
  {
   "cell_type": "code",
   "execution_count": null,
   "metadata": {},
   "outputs": [],
   "source": [
    "dataHDU[1].data.dtype"
   ]
  },
  {
   "cell_type": "markdown",
   "metadata": {},
   "source": [
    "### Combine data from all quadrants"
   ]
  },
  {
   "cell_type": "markdown",
   "metadata": {},
   "source": [
    "CZTI contains four quadrants, here we obtain the time value for each quadrant and combine the data for them.  Since the FITS tables are a list of detected photons, combining the list of times effectively produces a list of the times of all photons observed by the detector."
   ]
  },
  {
   "cell_type": "code",
   "execution_count": null,
   "metadata": {},
   "outputs": [],
   "source": [
    "times = np.concatenate((dataHDU[1].data['Time'], dataHDU[2].data['Time'],\n",
    "                        dataHDU[3].data['Time'], dataHDU[4].data['Time']))"
   ]
  },
  {
   "cell_type": "markdown",
   "metadata": {},
   "source": [
    "### Make histogram and plot light curve"
   ]
  },
  {
   "cell_type": "markdown",
   "metadata": {},
   "source": [
    "To generate a light curve, we can just create a histogram of the times of photon arrival from the four quadrants.  Defining the bin size (in this case 5 s) will significantly impact the appearance of the light curve.   "
   ]
  },
  {
   "cell_type": "code",
   "execution_count": null,
   "metadata": {
    "scrolled": true
   },
   "outputs": [],
   "source": [
    "# Define timebins\n",
    "binsize = 5  \n",
    "tbins = np.arange(times.min(), times.max(), binsize)\n",
    "\n",
    "# Make histogoram\n",
    "counts, bins = np.histogram(times, bins=tbins)\n",
    "bins = (bins[1:] + bins[:-1])/2\n",
    "\n",
    "# Plot\n",
    "plt.plot(bins, counts/binsize, drawstyle='steps-mid')\n",
    "plt.xlabel('Time (s)')\n",
    "plt.ylabel('$counts\\ s^{-1}$')\n",
    "plt.show()"
   ]
  },
  {
   "cell_type": "markdown",
   "metadata": {},
   "source": [
    "# Searching for GRB170105A in Data"
   ]
  },
  {
   "cell_type": "markdown",
   "metadata": {},
   "source": [
    "*Student Exercises*: From other high-energy detectors, we know that a GRB occured at UTC 2017 Jan 5 06:14:06 (GRB170105A), corresponding to a mission time of ~ 221292850.  \n",
    "\n",
    "Part 1: Did the CZTI see a GRB at this time?  Plot the four-quadrant light curve around this time window with a variety of different bin sizes to see if there is any evidence for a GRB at this time."
   ]
  },
  {
   "cell_type": "code",
   "execution_count": null,
   "metadata": {},
   "outputs": [],
   "source": []
  },
  {
   "cell_type": "markdown",
   "metadata": {},
   "source": [
    "Part 2: Estimate the duration of GRB170105A in the CZTI bandpass (i.e., how long was there signal above the background level)?"
   ]
  },
  {
   "cell_type": "code",
   "execution_count": null,
   "metadata": {},
   "outputs": [],
   "source": []
  },
  {
   "cell_type": "markdown",
   "metadata": {},
   "source": [
    "# Searching for the Crab Pulsar"
   ]
  },
  {
   "cell_type": "markdown",
   "metadata": {},
   "source": [
    "We will look at observations obtained by the Large Area X-ray Proportional Counter (LAXPC) instrument on AstroSat to see if we can measure pulsations from the Crab pulsar.  We need following files for this tutorial:<br> \n",
    "1) A LAXPC events file without barycenter correction.<br>\n",
    "2) An event file with barycenter correction.<br>\n",
    "3) A GTI file (which contains the good time start and stop time values).<br>\n",
    "The files can be open in the same format as described in the example below.<br>\n",
    "GTI = Good Time Interval"
   ]
  },
  {
   "cell_type": "code",
   "execution_count": null,
   "metadata": {},
   "outputs": [],
   "source": [
    "fevents=fits.open(\"data/ObsID406_02741_event.fits\")\n",
    "fevents_bary=fits.open(\"data/ObsID406_02741_laxpc_bary.fits\")\n",
    "fgti=fits.open('data/ObsID406_02741_laxpc1_bary.gti')"
   ]
  },
  {
   "cell_type": "markdown",
   "metadata": {},
   "source": [
    "# Some information about fits file"
   ]
  },
  {
   "cell_type": "markdown",
   "metadata": {},
   "source": [
    "From the files we can obtain informations like the length, header etc."
   ]
  },
  {
   "cell_type": "code",
   "execution_count": null,
   "metadata": {},
   "outputs": [],
   "source": [
    "fevents_bary[1].header"
   ]
  },
  {
   "cell_type": "markdown",
   "metadata": {},
   "source": [
    "# Change in time after barycenter correction"
   ]
  },
  {
   "cell_type": "markdown",
   "metadata": {},
   "source": [
    "For accurate timing analysis, we need to put all the observations times onto a common reference system.  This is typically referenced to the frame of the Sun / Solar System, and is called a barycenter correction.  Here the correction has been applied for us by the AstroSat pipeline.  Observe the time difference between the data from the event file and barycenter correction file."
   ]
  },
  {
   "cell_type": "code",
   "execution_count": null,
   "metadata": {},
   "outputs": [],
   "source": [
    "time=fevents[1].data['TIME']\n",
    "time_bary=fevents_bary[1].data['TIME']\n",
    "time_diff=time[0]- time_bary[0]\n",
    "time_diff"
   ]
  },
  {
   "cell_type": "markdown",
   "metadata": {},
   "source": [
    "# Lightcurve without GTI"
   ]
  },
  {
   "cell_type": "markdown",
   "metadata": {},
   "source": [
    "In addition to the barycenter correction, we need to account for the fact that only a fraction of the data is obtained during so-called \"Good Time Intervals (GTIs)\".  This could be due to time periods of elevated background (e.g., passage through the South Atlantic Anomaly), or simply because the target location is occulted by Earth.\n",
    "\n",
    "First lets plot the light curve without applying gti cuts. This plot will consist of both gti(good time interval) data as well as bti (bad time interval) data. We can compare the two light curves obtained before and after applying gti cuts."
   ]
  },
  {
   "cell_type": "code",
   "execution_count": null,
   "metadata": {},
   "outputs": [],
   "source": [
    "# Define timebins\n",
    "binsize = 1\n",
    "tbins = np.arange(time_bary.min(), time_bary.max(), binsize)\n",
    "\n",
    "# Make histogoram\n",
    "counts_time, t_bins = np.histogram(time_bary, bins=tbins)\n",
    "t_bins = (t_bins[1:] + t_bins[:-1])/2\n",
    "\n",
    "# Plot\n",
    "plt.plot(t_bins, counts_time/binsize, drawstyle='steps-mid')\n",
    "plt.xlabel('Time (s)')\n",
    "plt.ylabel('$counts\\ s^{-1}$')\n",
    "plt.show()"
   ]
  },
  {
   "cell_type": "markdown",
   "metadata": {},
   "source": [
    "# applying GTI"
   ]
  },
  {
   "cell_type": "markdown",
   "metadata": {},
   "source": [
    "Read and filter event file to keep in array only events within the good time interval.  You can see from the plot above that there are two good time intervals in the above data set."
   ]
  },
  {
   "cell_type": "code",
   "execution_count": null,
   "metadata": {},
   "outputs": [],
   "source": [
    "gtidata=fgti[1].data\n",
    "gtidata"
   ]
  },
  {
   "cell_type": "code",
   "execution_count": null,
   "metadata": {},
   "outputs": [],
   "source": [
    "t_start=gtidata[0][0],gtidata[1][0]\n",
    "t_stop=gtidata[0][1],gtidata[1][1]"
   ]
  },
  {
   "cell_type": "markdown",
   "metadata": {},
   "source": [
    "#  lightcurve after applying GTI"
   ]
  },
  {
   "cell_type": "markdown",
   "metadata": {},
   "source": [
    "*Student Exercise*: Using the GTIs defined above, plot the light curve in the second good time interval."
   ]
  },
  {
   "cell_type": "code",
   "execution_count": null,
   "metadata": {},
   "outputs": [],
   "source": []
  },
  {
   "cell_type": "markdown",
   "metadata": {},
   "source": [
    "# Calculating Phase and folding"
   ]
  },
  {
   "cell_type": "markdown",
   "metadata": {},
   "source": [
    "While it is not apparent in the plot above, the X-ray light curves includes a periodic modulation due to the Crab pulsar.\n",
    "\n",
    "*Student Exercise*: Calculate the power spectrum of the light curve in the second good time interval, and search for periodicity due to the Crab pulsar (hint: the period is ~ 30 Hz)"
   ]
  },
  {
   "cell_type": "code",
   "execution_count": null,
   "metadata": {},
   "outputs": [],
   "source": []
  },
  {
   "cell_type": "markdown",
   "metadata": {},
   "source": [
    "With the period in hand, we can calculate a phase folded light curve to measure the pulse profile.  We can use the period measured above (P = 29.655 Hz) to perform the phase folding.\n",
    "\n",
    "*Student exercise*: Fold the light curve above at the period of the Crab pulsar to determine the pulse profile.  Hint: use the following period: 29.6553306828504"
   ]
  },
  {
   "cell_type": "code",
   "execution_count": null,
   "metadata": {},
   "outputs": [],
   "source": []
  },
  {
   "cell_type": "code",
   "execution_count": null,
   "metadata": {},
   "outputs": [],
   "source": []
  }
 ],
 "metadata": {
  "kernelspec": {
   "display_name": "Python 3",
   "language": "python",
   "name": "python3"
  },
  "language_info": {
   "codemirror_mode": {
    "name": "ipython",
    "version": 3
   },
   "file_extension": ".py",
   "mimetype": "text/x-python",
   "name": "python",
   "nbconvert_exporter": "python",
   "pygments_lexer": "ipython3",
   "version": "3.7.4"
  }
 },
 "nbformat": 4,
 "nbformat_minor": 2
}
